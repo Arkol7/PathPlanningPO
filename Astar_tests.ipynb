{
 "cells": [
  {
   "cell_type": "code",
   "execution_count": 1,
   "metadata": {},
   "outputs": [],
   "source": [
    "height = 15\n",
    "width = 30\n",
    "mapstr = '''\n",
    ". . . . . . . . . . . . . . . . . . . . . # # . . . . . . .  \n",
    ". . . . . . . . . . . . . . . . . . . . . # # . . . . . . . \n",
    ". . . . . . . . . . . . . . . . . . . . . # # . . . . . . . \n",
    ". . . # # . . . . . . . . . . . . . . . . # # . . . . . . . \n",
    ". . . # # . . . . . . . . # # . . . . . . # # . . . . . . . \n",
    ". . . # # . . . . . . . . # # . . . . . . # # # # # . . . . \n",
    ". . . # # . . . . . . . . # # . . . . . . # # # # # . . . . \n",
    ". . . # # . . . . . . . . # # . . . . . . . . . . . . . . . \n",
    ". . . # # . . . . . . . . # # . . . . . . . . . . . . . . . \n",
    ". . . # # . . . . . . . . # # . . . . . . . . . . . . . . . \n",
    ". . . # # . . . . . . . . # # . . . . . . . . . . . . . . . \n",
    ". . . # # . . . . . . . . # # . . . . . . . . . . . . . . . \n",
    ". . . . . . . . . . . . . # # . . . . . . . . . . . . . . . \n",
    ". . . . . . . . . . . . . # # . . . . . . . . . . . . . . .\n",
    ". . . . . . . . . . . . . # # . . . . . . . . . . . . . . .\n",
    "'''\n",
    "iStart = 1\n",
    "jStart = 1\n",
    "iGoal = 13\n",
    "jGoal = 28\n",
    "pathLen = 31.9705627\n",
    "EPS = 0.000001"
   ]
  },
  {
   "cell_type": "code",
   "execution_count": 2,
   "metadata": {},
   "outputs": [],
   "source": [
    "from env.environment import Map, ManhattanDistance, MakePath, Draw\n",
    "from algorithms.Astar import Astar, Node\n",
    "\n",
    "def simple_test(search_algorithm, height, width, mapstr, iStart, jStart, iGoal, jGoal, pathLen, *args):\n",
    "    taskMap = Map()\n",
    "    taskMap.ReadFromString(mapstr, width, height)\n",
    "    start = Node(iStart, jStart)\n",
    "    goal = Node(iGoal, jGoal)\n",
    "    \n",
    "    alg = search_algorithm(taskMap, (iStart, jStart), (iGoal, jGoal), ManhattanDistance)\n",
    "    result = alg.compute()\n",
    "    nodesExpanded = result[2]\n",
    "    nodesOpened = result[3]\n",
    "    if result[0]:\n",
    "        path = alg.make_path(result[1])\n",
    "        correct = abs(path[1] - pathLen) < EPS\n",
    "        print(\"Path found! Length: \" + str(path[1]) + \". Nodes created: \" + str(len(nodesOpened) + len(nodesExpanded)) + \". Number of steps: \" + str(len(nodesExpanded)) + \". Correct: \" + str(correct))\n",
    "        Draw(taskMap, start, goal, path[0], nodesExpanded, nodesOpened)\n",
    "    else:\n",
    "        print(\"Path not found!\")\n",
    "        Draw(taskMap, start, goal, None, nodesExpanded, nodesOpened)"
   ]
  },
  {
   "cell_type": "code",
   "execution_count": 3,
   "metadata": {},
   "outputs": [
    {
     "name": "stdout",
     "output_type": "stream",
     "text": [
      "Path found! Length: 31.970562748477146. Nodes created: 187. Number of steps: 101. Correct: True\n"
     ]
    },
    {
     "data": {
      "image/png": "[encoded data removed]",
      "text/plain": [
       "<Figure size 900x600 with 1 Axes>"
      ]
     },
     "metadata": {
      "needs_background": "light"
     },
     "output_type": "display_data"
    }
   ],
   "source": [
    "simple_test(Astar, height, width, mapstr, iStart, jStart, iGoal, jGoal, pathLen)"
   ]
  },
  {
   "cell_type": "code",
   "execution_count": 4,
   "metadata": {},
   "outputs": [],
   "source": [
    "import imageio\n",
    "import os\n",
    "from env.pomap import POMap\n",
    "\n",
    "def move(search_algorithm, height, width, mapstr, iStart, jStart, iGoal, jGoal):\n",
    "    taskMap = POMap(3)\n",
    "    taskMap.ReadFromString(mapstr, width, height)\n",
    "    start = Node(iStart, jStart)\n",
    "    goal = Node(iGoal, jGoal)\n",
    "    frames = []\n",
    "    check = True\n",
    "    \n",
    "    while True:\n",
    "        if start == goal:\n",
    "            break\n",
    "        if taskMap.update(start.i, start.j) or check:\n",
    "            check = False\n",
    "            alg = search_algorithm(taskMap, (start.i, start.j), (goal.i, goal.j), ManhattanDistance)\n",
    "            result = alg.compute()\n",
    "            \n",
    "            if result[0]:\n",
    "                path, length = alg.make_path(result[1])\n",
    "                frames.append(taskMap.draw(start, goal, path))\n",
    "                start = path[1]\n",
    "                path= path[1:]\n",
    "            else:\n",
    "                print(\"Path not found!\")\n",
    "                break\n",
    "        else:\n",
    "            frames.append(taskMap.draw(start, goal, path))\n",
    "            start = path[1]\n",
    "            path= path[1:]\n",
    "    imageio.mimsave(os.path.join('movie.gif'), frames, duration = 0.1)"
   ]
  },
  {
   "cell_type": "code",
   "execution_count": 5,
   "metadata": {},
   "outputs": [],
   "source": [
    "move(Astar, height, width, mapstr, iStart, jStart, iGoal, jGoal)"
   ]
  }
 ],
 "metadata": {
  "kernelspec": {
   "display_name": "Python 3",
   "language": "python",
   "name": "python3"
  },
  "language_info": {
   "codemirror_mode": {
    "name": "ipython",
    "version": 3
   },
   "file_extension": ".py",
   "mimetype": "text/x-python",
   "name": "python",
   "nbconvert_exporter": "python",
   "pygments_lexer": "ipython3",
   "version": "3.7.8"
  }
 },
 "nbformat": 4,
 "nbformat_minor": 1
}